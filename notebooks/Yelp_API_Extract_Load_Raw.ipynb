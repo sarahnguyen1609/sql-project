{
  "nbformat": 4,
  "nbformat_minor": 0,
  "metadata": {
    "colab": {
      "provenance": []
    },
    "kernelspec": {
      "name": "python3",
      "display_name": "Python 3"
    },
    "language_info": {
      "name": "python"
    }
  },
  "cells": [
    {
      "cell_type": "code",
      "execution_count": 29,
      "metadata": {
        "collapsed": true,
        "colab": {
          "base_uri": "https://localhost:8080/"
        },
        "id": "QMmHJbiRffQ3",
        "outputId": "9023fe3b-6f4b-4336-8620-4934dd99fc70"
      },
      "outputs": [
        {
          "output_type": "stream",
          "name": "stdout",
          "text": [
            "Requirement already satisfied: requests in /usr/local/lib/python3.11/dist-packages (2.32.3)\n",
            "Requirement already satisfied: pandas in /usr/local/lib/python3.11/dist-packages (2.2.2)\n",
            "Requirement already satisfied: pymysql in /usr/local/lib/python3.11/dist-packages (1.1.1)\n",
            "Requirement already satisfied: sqlalchemy in /usr/local/lib/python3.11/dist-packages (2.0.40)\n",
            "Requirement already satisfied: charset-normalizer<4,>=2 in /usr/local/lib/python3.11/dist-packages (from requests) (3.4.1)\n",
            "Requirement already satisfied: idna<4,>=2.5 in /usr/local/lib/python3.11/dist-packages (from requests) (3.10)\n",
            "Requirement already satisfied: urllib3<3,>=1.21.1 in /usr/local/lib/python3.11/dist-packages (from requests) (2.4.0)\n",
            "Requirement already satisfied: certifi>=2017.4.17 in /usr/local/lib/python3.11/dist-packages (from requests) (2025.4.26)\n",
            "Requirement already satisfied: numpy>=1.23.2 in /usr/local/lib/python3.11/dist-packages (from pandas) (2.0.2)\n",
            "Requirement already satisfied: python-dateutil>=2.8.2 in /usr/local/lib/python3.11/dist-packages (from pandas) (2.9.0.post0)\n",
            "Requirement already satisfied: pytz>=2020.1 in /usr/local/lib/python3.11/dist-packages (from pandas) (2025.2)\n",
            "Requirement already satisfied: tzdata>=2022.7 in /usr/local/lib/python3.11/dist-packages (from pandas) (2025.2)\n",
            "Requirement already satisfied: greenlet>=1 in /usr/local/lib/python3.11/dist-packages (from sqlalchemy) (3.2.1)\n",
            "Requirement already satisfied: typing-extensions>=4.6.0 in /usr/local/lib/python3.11/dist-packages (from sqlalchemy) (4.13.2)\n",
            "Requirement already satisfied: six>=1.5 in /usr/local/lib/python3.11/dist-packages (from python-dateutil>=2.8.2->pandas) (1.17.0)\n"
          ]
        }
      ],
      "source": [
        "!pip install requests pandas pymysql sqlalchemy"
      ]
    },
    {
      "cell_type": "code",
      "source": [
        "!pip install psycopg2-binary"
      ],
      "metadata": {
        "colab": {
          "base_uri": "https://localhost:8080/"
        },
        "id": "dGAZykHGCk35",
        "outputId": "6b34c19b-c422-41cd-812a-bafa2e562039"
      },
      "execution_count": 30,
      "outputs": [
        {
          "output_type": "stream",
          "name": "stdout",
          "text": [
            "Requirement already satisfied: psycopg2-binary in /usr/local/lib/python3.11/dist-packages (2.9.10)\n"
          ]
        }
      ]
    },
    {
      "cell_type": "code",
      "source": [
        "import requests\n",
        "import pandas as pd\n",
        "from sqlalchemy import create_engine"
      ],
      "metadata": {
        "id": "qXHpvefJfqf2"
      },
      "execution_count": 31,
      "outputs": []
    },
    {
      "cell_type": "code",
      "source": [
        "url = \"https://api.yelp.com/v3/businesses/search\""
      ],
      "metadata": {
        "id": "HHc-67URfsHG"
      },
      "execution_count": 16,
      "outputs": []
    },
    {
      "cell_type": "code",
      "source": [
        "api_key = \"IFp8yeZkMCl7wjJtX_rIZESJb6Dmo1c9_-UGEAz3tK2LGYNs_0fdjJm_a7eHXKLG2m2vb4LS78fT7R8vCx8gbM2pN_Q5kfdmF0tPvugs0f0XqzZlcLlo08KRVlAIaHYx\""
      ],
      "metadata": {
        "id": "ywrddXauE9ts"
      },
      "execution_count": 17,
      "outputs": []
    },
    {
      "cell_type": "code",
      "source": [
        "headers = {\n",
        "    \"Authorization\": f\"Bearer {api_key}\"\n",
        "}\n",
        "params = {\n",
        "    \"term\": \"Apple Store\",\n",
        "    \"location\": \"New York, NY\",\n",
        "    \"limit\": 10\n",
        "}\n",
        "\n",
        "response = requests.get(url, headers=headers, params=params)\n",
        "response"
      ],
      "metadata": {
        "colab": {
          "base_uri": "https://localhost:8080/"
        },
        "id": "1-d9Sij7f3-7",
        "outputId": "04a0062c-11c5-41da-f1e1-9da83208e4ed"
      },
      "execution_count": 21,
      "outputs": [
        {
          "output_type": "execute_result",
          "data": {
            "text/plain": [
              "<Response [200]>"
            ]
          },
          "metadata": {},
          "execution_count": 21
        }
      ]
    },
    {
      "cell_type": "code",
      "source": [
        "data = response.json()\n",
        "type(data)"
      ],
      "metadata": {
        "colab": {
          "base_uri": "https://localhost:8080/"
        },
        "id": "mZGf3MgFf6l7",
        "outputId": "e186d740-4647-43d4-f017-5c18cf183e70"
      },
      "execution_count": 22,
      "outputs": [
        {
          "output_type": "execute_result",
          "data": {
            "text/plain": [
              "dict"
            ]
          },
          "metadata": {},
          "execution_count": 22
        }
      ]
    },
    {
      "cell_type": "code",
      "source": [
        "data['businesses'][0]"
      ],
      "metadata": {
        "collapsed": true,
        "colab": {
          "base_uri": "https://localhost:8080/"
        },
        "id": "HcSs2DZcf9Vr",
        "outputId": "68a6affb-6b19-4d7d-8566-7a2ef346a315"
      },
      "execution_count": 23,
      "outputs": [
        {
          "output_type": "execute_result",
          "data": {
            "text/plain": [
              "{'id': 'hjHT-zpKxeXAphNyUkOU7A',\n",
              " 'alias': 'apple-soho-new-york',\n",
              " 'name': 'Apple Soho',\n",
              " 'image_url': 'https://s3-media3.fl.yelpcdn.com/bphoto/mVXYzG28w90TOa4IY2pEfA/o.jpg',\n",
              " 'is_closed': False,\n",
              " 'url': 'https://www.yelp.com/biz/apple-soho-new-york?adjust_creative=kS6JEZ5zMHH1n_MaweIpug&utm_campaign=yelp_api_v3&utm_medium=api_v3_business_search&utm_source=kS6JEZ5zMHH1n_MaweIpug',\n",
              " 'review_count': 607,\n",
              " 'categories': [{'alias': 'computers', 'title': 'Computers'},\n",
              "  {'alias': 'mobilephones', 'title': 'Mobile Phones'},\n",
              "  {'alias': 'itservices', 'title': 'IT Services & Computer Repair'}],\n",
              " 'rating': 3.3,\n",
              " 'coordinates': {'latitude': 40.72499, 'longitude': -73.99909},\n",
              " 'transactions': [],\n",
              " 'price': '$$$',\n",
              " 'location': {'address1': '103 Prince St',\n",
              "  'address2': '',\n",
              "  'address3': '',\n",
              "  'city': 'New York',\n",
              "  'zip_code': '10012',\n",
              "  'country': 'US',\n",
              "  'state': 'NY',\n",
              "  'display_address': ['103 Prince St', 'New York, NY 10012']},\n",
              " 'phone': '+12122263126',\n",
              " 'display_phone': '(212) 226-3126',\n",
              " 'distance': 2222.8019833143485,\n",
              " 'business_hours': [{'open': [{'is_overnight': False,\n",
              "     'start': '0900',\n",
              "     'end': '2100',\n",
              "     'day': 0},\n",
              "    {'is_overnight': False, 'start': '0900', 'end': '2100', 'day': 1},\n",
              "    {'is_overnight': False, 'start': '0900', 'end': '2100', 'day': 2},\n",
              "    {'is_overnight': False, 'start': '0900', 'end': '2100', 'day': 3},\n",
              "    {'is_overnight': False, 'start': '0900', 'end': '2100', 'day': 4},\n",
              "    {'is_overnight': False, 'start': '0900', 'end': '2100', 'day': 5},\n",
              "    {'is_overnight': False, 'start': '1000', 'end': '2000', 'day': 6}],\n",
              "   'hours_type': 'REGULAR',\n",
              "   'is_open_now': True}],\n",
              " 'attributes': {'business_temp_closed': None,\n",
              "  'open24_hours': None,\n",
              "  'waitlist_reservation': None}}"
            ]
          },
          "metadata": {},
          "execution_count": 23
        }
      ]
    },
    {
      "cell_type": "code",
      "source": [
        "rows = []\n",
        "\n",
        "for biz in data['businesses']:\n",
        "    rows.append({\n",
        "        'Store Name': biz['name'],\n",
        "        'Rating': biz['rating'],\n",
        "        'Review Count': biz['review_count'],\n",
        "        'Phone': biz['phone'],\n",
        "        'Address': \", \".join(biz['location']['display_address']),\n",
        "        'Yelp URL': biz['url']\n",
        "    })"
      ],
      "metadata": {
        "id": "dafnYm9AgBE3"
      },
      "execution_count": 24,
      "outputs": []
    },
    {
      "cell_type": "code",
      "source": [
        "df = pd.DataFrame(rows)\n",
        "df"
      ],
      "metadata": {
        "colab": {
          "base_uri": "https://localhost:8080/",
          "height": 363
        },
        "collapsed": true,
        "id": "smH0Lr2lgEhn",
        "outputId": "9a8b0a04-fec1-45d5-bf64-577053cc6301"
      },
      "execution_count": 25,
      "outputs": [
        {
          "output_type": "execute_result",
          "data": {
            "text/plain": [
              "                 Store Name  Rating  Review Count         Phone  \\\n",
              "0                Apple Soho     3.3           607  +12122263126   \n",
              "1        Apple Fifth Avenue     3.4          1194  +12123361440   \n",
              "2          Apple - New York     3.2           472  +12124443400   \n",
              "3  Apple World Trade Center     3.0           202  +16468023800   \n",
              "4      Apple - Williamsburg     2.6           206  +19293972740   \n",
              "5   Apple - Upper West Side     2.7           463  +12122093400   \n",
              "6       Apple Grand Central     2.9           566  +12122841800   \n",
              "7          Apple - Brooklyn     2.6           183  +17186376200   \n",
              "8   Apple - Upper East Side     2.5           217  +16463432700   \n",
              "9       Apple Queens Center     2.5           180  +17184891540   \n",
              "\n",
              "                                         Address  \\\n",
              "0              103 Prince St, New York, NY 10012   \n",
              "1                767 5th Ave, New York, NY 10153   \n",
              "2              401 W 14th St, New York, NY 10014   \n",
              "3           185 Greenwich St, New York, NY 10007   \n",
              "4            247 Bedford Ave, Brooklyn, NY 11211   \n",
              "5              1981 Broadway, New York, NY 10023   \n",
              "6  45 Grand Central Terminal, New York, NY 10017   \n",
              "7           123 Flatbush Ave, Brooklyn, NY 11217   \n",
              "8            940 Madison Ave, New York, NY 10021   \n",
              "9          90-15 Queens Blvd, Elmhurst, NY 11373   \n",
              "\n",
              "                                            Yelp URL  \n",
              "0  https://www.yelp.com/biz/apple-soho-new-york?a...  \n",
              "1  https://www.yelp.com/biz/apple-fifth-avenue-ne...  \n",
              "2  https://www.yelp.com/biz/apple-new-york-new-yo...  \n",
              "3  https://www.yelp.com/biz/apple-world-trade-cen...  \n",
              "4  https://www.yelp.com/biz/apple-williamsburg-br...  \n",
              "5  https://www.yelp.com/biz/apple-upper-west-side...  \n",
              "6  https://www.yelp.com/biz/apple-grand-central-n...  \n",
              "7  https://www.yelp.com/biz/apple-brooklyn-brookl...  \n",
              "8  https://www.yelp.com/biz/apple-upper-east-side...  \n",
              "9  https://www.yelp.com/biz/apple-queens-center-e...  "
            ],
            "text/html": [
              "\n",
              "  <div id=\"df-ae91d787-a30b-471a-9e6e-de715a670f31\" class=\"colab-df-container\">\n",
              "    <div>\n",
              "<style scoped>\n",
              "    .dataframe tbody tr th:only-of-type {\n",
              "        vertical-align: middle;\n",
              "    }\n",
              "\n",
              "    .dataframe tbody tr th {\n",
              "        vertical-align: top;\n",
              "    }\n",
              "\n",
              "    .dataframe thead th {\n",
              "        text-align: right;\n",
              "    }\n",
              "</style>\n",
              "<table border=\"1\" class=\"dataframe\">\n",
              "  <thead>\n",
              "    <tr style=\"text-align: right;\">\n",
              "      <th></th>\n",
              "      <th>Store Name</th>\n",
              "      <th>Rating</th>\n",
              "      <th>Review Count</th>\n",
              "      <th>Phone</th>\n",
              "      <th>Address</th>\n",
              "      <th>Yelp URL</th>\n",
              "    </tr>\n",
              "  </thead>\n",
              "  <tbody>\n",
              "    <tr>\n",
              "      <th>0</th>\n",
              "      <td>Apple Soho</td>\n",
              "      <td>3.3</td>\n",
              "      <td>607</td>\n",
              "      <td>+12122263126</td>\n",
              "      <td>103 Prince St, New York, NY 10012</td>\n",
              "      <td>https://www.yelp.com/biz/apple-soho-new-york?a...</td>\n",
              "    </tr>\n",
              "    <tr>\n",
              "      <th>1</th>\n",
              "      <td>Apple Fifth Avenue</td>\n",
              "      <td>3.4</td>\n",
              "      <td>1194</td>\n",
              "      <td>+12123361440</td>\n",
              "      <td>767 5th Ave, New York, NY 10153</td>\n",
              "      <td>https://www.yelp.com/biz/apple-fifth-avenue-ne...</td>\n",
              "    </tr>\n",
              "    <tr>\n",
              "      <th>2</th>\n",
              "      <td>Apple - New York</td>\n",
              "      <td>3.2</td>\n",
              "      <td>472</td>\n",
              "      <td>+12124443400</td>\n",
              "      <td>401 W 14th St, New York, NY 10014</td>\n",
              "      <td>https://www.yelp.com/biz/apple-new-york-new-yo...</td>\n",
              "    </tr>\n",
              "    <tr>\n",
              "      <th>3</th>\n",
              "      <td>Apple World Trade Center</td>\n",
              "      <td>3.0</td>\n",
              "      <td>202</td>\n",
              "      <td>+16468023800</td>\n",
              "      <td>185 Greenwich St, New York, NY 10007</td>\n",
              "      <td>https://www.yelp.com/biz/apple-world-trade-cen...</td>\n",
              "    </tr>\n",
              "    <tr>\n",
              "      <th>4</th>\n",
              "      <td>Apple - Williamsburg</td>\n",
              "      <td>2.6</td>\n",
              "      <td>206</td>\n",
              "      <td>+19293972740</td>\n",
              "      <td>247 Bedford Ave, Brooklyn, NY 11211</td>\n",
              "      <td>https://www.yelp.com/biz/apple-williamsburg-br...</td>\n",
              "    </tr>\n",
              "    <tr>\n",
              "      <th>5</th>\n",
              "      <td>Apple - Upper West Side</td>\n",
              "      <td>2.7</td>\n",
              "      <td>463</td>\n",
              "      <td>+12122093400</td>\n",
              "      <td>1981 Broadway, New York, NY 10023</td>\n",
              "      <td>https://www.yelp.com/biz/apple-upper-west-side...</td>\n",
              "    </tr>\n",
              "    <tr>\n",
              "      <th>6</th>\n",
              "      <td>Apple Grand Central</td>\n",
              "      <td>2.9</td>\n",
              "      <td>566</td>\n",
              "      <td>+12122841800</td>\n",
              "      <td>45 Grand Central Terminal, New York, NY 10017</td>\n",
              "      <td>https://www.yelp.com/biz/apple-grand-central-n...</td>\n",
              "    </tr>\n",
              "    <tr>\n",
              "      <th>7</th>\n",
              "      <td>Apple - Brooklyn</td>\n",
              "      <td>2.6</td>\n",
              "      <td>183</td>\n",
              "      <td>+17186376200</td>\n",
              "      <td>123 Flatbush Ave, Brooklyn, NY 11217</td>\n",
              "      <td>https://www.yelp.com/biz/apple-brooklyn-brookl...</td>\n",
              "    </tr>\n",
              "    <tr>\n",
              "      <th>8</th>\n",
              "      <td>Apple - Upper East Side</td>\n",
              "      <td>2.5</td>\n",
              "      <td>217</td>\n",
              "      <td>+16463432700</td>\n",
              "      <td>940 Madison Ave, New York, NY 10021</td>\n",
              "      <td>https://www.yelp.com/biz/apple-upper-east-side...</td>\n",
              "    </tr>\n",
              "    <tr>\n",
              "      <th>9</th>\n",
              "      <td>Apple Queens Center</td>\n",
              "      <td>2.5</td>\n",
              "      <td>180</td>\n",
              "      <td>+17184891540</td>\n",
              "      <td>90-15 Queens Blvd, Elmhurst, NY 11373</td>\n",
              "      <td>https://www.yelp.com/biz/apple-queens-center-e...</td>\n",
              "    </tr>\n",
              "  </tbody>\n",
              "</table>\n",
              "</div>\n",
              "    <div class=\"colab-df-buttons\">\n",
              "\n",
              "  <div class=\"colab-df-container\">\n",
              "    <button class=\"colab-df-convert\" onclick=\"convertToInteractive('df-ae91d787-a30b-471a-9e6e-de715a670f31')\"\n",
              "            title=\"Convert this dataframe to an interactive table.\"\n",
              "            style=\"display:none;\">\n",
              "\n",
              "  <svg xmlns=\"http://www.w3.org/2000/svg\" height=\"24px\" viewBox=\"0 -960 960 960\">\n",
              "    <path d=\"M120-120v-720h720v720H120Zm60-500h600v-160H180v160Zm220 220h160v-160H400v160Zm0 220h160v-160H400v160ZM180-400h160v-160H180v160Zm440 0h160v-160H620v160ZM180-180h160v-160H180v160Zm440 0h160v-160H620v160Z\"/>\n",
              "  </svg>\n",
              "    </button>\n",
              "\n",
              "  <style>\n",
              "    .colab-df-container {\n",
              "      display:flex;\n",
              "      gap: 12px;\n",
              "    }\n",
              "\n",
              "    .colab-df-convert {\n",
              "      background-color: #E8F0FE;\n",
              "      border: none;\n",
              "      border-radius: 50%;\n",
              "      cursor: pointer;\n",
              "      display: none;\n",
              "      fill: #1967D2;\n",
              "      height: 32px;\n",
              "      padding: 0 0 0 0;\n",
              "      width: 32px;\n",
              "    }\n",
              "\n",
              "    .colab-df-convert:hover {\n",
              "      background-color: #E2EBFA;\n",
              "      box-shadow: 0px 1px 2px rgba(60, 64, 67, 0.3), 0px 1px 3px 1px rgba(60, 64, 67, 0.15);\n",
              "      fill: #174EA6;\n",
              "    }\n",
              "\n",
              "    .colab-df-buttons div {\n",
              "      margin-bottom: 4px;\n",
              "    }\n",
              "\n",
              "    [theme=dark] .colab-df-convert {\n",
              "      background-color: #3B4455;\n",
              "      fill: #D2E3FC;\n",
              "    }\n",
              "\n",
              "    [theme=dark] .colab-df-convert:hover {\n",
              "      background-color: #434B5C;\n",
              "      box-shadow: 0px 1px 3px 1px rgba(0, 0, 0, 0.15);\n",
              "      filter: drop-shadow(0px 1px 2px rgba(0, 0, 0, 0.3));\n",
              "      fill: #FFFFFF;\n",
              "    }\n",
              "  </style>\n",
              "\n",
              "    <script>\n",
              "      const buttonEl =\n",
              "        document.querySelector('#df-ae91d787-a30b-471a-9e6e-de715a670f31 button.colab-df-convert');\n",
              "      buttonEl.style.display =\n",
              "        google.colab.kernel.accessAllowed ? 'block' : 'none';\n",
              "\n",
              "      async function convertToInteractive(key) {\n",
              "        const element = document.querySelector('#df-ae91d787-a30b-471a-9e6e-de715a670f31');\n",
              "        const dataTable =\n",
              "          await google.colab.kernel.invokeFunction('convertToInteractive',\n",
              "                                                    [key], {});\n",
              "        if (!dataTable) return;\n",
              "\n",
              "        const docLinkHtml = 'Like what you see? Visit the ' +\n",
              "          '<a target=\"_blank\" href=https://colab.research.google.com/notebooks/data_table.ipynb>data table notebook</a>'\n",
              "          + ' to learn more about interactive tables.';\n",
              "        element.innerHTML = '';\n",
              "        dataTable['output_type'] = 'display_data';\n",
              "        await google.colab.output.renderOutput(dataTable, element);\n",
              "        const docLink = document.createElement('div');\n",
              "        docLink.innerHTML = docLinkHtml;\n",
              "        element.appendChild(docLink);\n",
              "      }\n",
              "    </script>\n",
              "  </div>\n",
              "\n",
              "\n",
              "    <div id=\"df-49b38f0b-02c9-43f6-a1ea-ba406d5236c2\">\n",
              "      <button class=\"colab-df-quickchart\" onclick=\"quickchart('df-49b38f0b-02c9-43f6-a1ea-ba406d5236c2')\"\n",
              "                title=\"Suggest charts\"\n",
              "                style=\"display:none;\">\n",
              "\n",
              "<svg xmlns=\"http://www.w3.org/2000/svg\" height=\"24px\"viewBox=\"0 0 24 24\"\n",
              "     width=\"24px\">\n",
              "    <g>\n",
              "        <path d=\"M19 3H5c-1.1 0-2 .9-2 2v14c0 1.1.9 2 2 2h14c1.1 0 2-.9 2-2V5c0-1.1-.9-2-2-2zM9 17H7v-7h2v7zm4 0h-2V7h2v10zm4 0h-2v-4h2v4z\"/>\n",
              "    </g>\n",
              "</svg>\n",
              "      </button>\n",
              "\n",
              "<style>\n",
              "  .colab-df-quickchart {\n",
              "      --bg-color: #E8F0FE;\n",
              "      --fill-color: #1967D2;\n",
              "      --hover-bg-color: #E2EBFA;\n",
              "      --hover-fill-color: #174EA6;\n",
              "      --disabled-fill-color: #AAA;\n",
              "      --disabled-bg-color: #DDD;\n",
              "  }\n",
              "\n",
              "  [theme=dark] .colab-df-quickchart {\n",
              "      --bg-color: #3B4455;\n",
              "      --fill-color: #D2E3FC;\n",
              "      --hover-bg-color: #434B5C;\n",
              "      --hover-fill-color: #FFFFFF;\n",
              "      --disabled-bg-color: #3B4455;\n",
              "      --disabled-fill-color: #666;\n",
              "  }\n",
              "\n",
              "  .colab-df-quickchart {\n",
              "    background-color: var(--bg-color);\n",
              "    border: none;\n",
              "    border-radius: 50%;\n",
              "    cursor: pointer;\n",
              "    display: none;\n",
              "    fill: var(--fill-color);\n",
              "    height: 32px;\n",
              "    padding: 0;\n",
              "    width: 32px;\n",
              "  }\n",
              "\n",
              "  .colab-df-quickchart:hover {\n",
              "    background-color: var(--hover-bg-color);\n",
              "    box-shadow: 0 1px 2px rgba(60, 64, 67, 0.3), 0 1px 3px 1px rgba(60, 64, 67, 0.15);\n",
              "    fill: var(--button-hover-fill-color);\n",
              "  }\n",
              "\n",
              "  .colab-df-quickchart-complete:disabled,\n",
              "  .colab-df-quickchart-complete:disabled:hover {\n",
              "    background-color: var(--disabled-bg-color);\n",
              "    fill: var(--disabled-fill-color);\n",
              "    box-shadow: none;\n",
              "  }\n",
              "\n",
              "  .colab-df-spinner {\n",
              "    border: 2px solid var(--fill-color);\n",
              "    border-color: transparent;\n",
              "    border-bottom-color: var(--fill-color);\n",
              "    animation:\n",
              "      spin 1s steps(1) infinite;\n",
              "  }\n",
              "\n",
              "  @keyframes spin {\n",
              "    0% {\n",
              "      border-color: transparent;\n",
              "      border-bottom-color: var(--fill-color);\n",
              "      border-left-color: var(--fill-color);\n",
              "    }\n",
              "    20% {\n",
              "      border-color: transparent;\n",
              "      border-left-color: var(--fill-color);\n",
              "      border-top-color: var(--fill-color);\n",
              "    }\n",
              "    30% {\n",
              "      border-color: transparent;\n",
              "      border-left-color: var(--fill-color);\n",
              "      border-top-color: var(--fill-color);\n",
              "      border-right-color: var(--fill-color);\n",
              "    }\n",
              "    40% {\n",
              "      border-color: transparent;\n",
              "      border-right-color: var(--fill-color);\n",
              "      border-top-color: var(--fill-color);\n",
              "    }\n",
              "    60% {\n",
              "      border-color: transparent;\n",
              "      border-right-color: var(--fill-color);\n",
              "    }\n",
              "    80% {\n",
              "      border-color: transparent;\n",
              "      border-right-color: var(--fill-color);\n",
              "      border-bottom-color: var(--fill-color);\n",
              "    }\n",
              "    90% {\n",
              "      border-color: transparent;\n",
              "      border-bottom-color: var(--fill-color);\n",
              "    }\n",
              "  }\n",
              "</style>\n",
              "\n",
              "      <script>\n",
              "        async function quickchart(key) {\n",
              "          const quickchartButtonEl =\n",
              "            document.querySelector('#' + key + ' button');\n",
              "          quickchartButtonEl.disabled = true;  // To prevent multiple clicks.\n",
              "          quickchartButtonEl.classList.add('colab-df-spinner');\n",
              "          try {\n",
              "            const charts = await google.colab.kernel.invokeFunction(\n",
              "                'suggestCharts', [key], {});\n",
              "          } catch (error) {\n",
              "            console.error('Error during call to suggestCharts:', error);\n",
              "          }\n",
              "          quickchartButtonEl.classList.remove('colab-df-spinner');\n",
              "          quickchartButtonEl.classList.add('colab-df-quickchart-complete');\n",
              "        }\n",
              "        (() => {\n",
              "          let quickchartButtonEl =\n",
              "            document.querySelector('#df-49b38f0b-02c9-43f6-a1ea-ba406d5236c2 button');\n",
              "          quickchartButtonEl.style.display =\n",
              "            google.colab.kernel.accessAllowed ? 'block' : 'none';\n",
              "        })();\n",
              "      </script>\n",
              "    </div>\n",
              "\n",
              "  <div id=\"id_f4a9590e-205b-4e62-8779-b7695eb78141\">\n",
              "    <style>\n",
              "      .colab-df-generate {\n",
              "        background-color: #E8F0FE;\n",
              "        border: none;\n",
              "        border-radius: 50%;\n",
              "        cursor: pointer;\n",
              "        display: none;\n",
              "        fill: #1967D2;\n",
              "        height: 32px;\n",
              "        padding: 0 0 0 0;\n",
              "        width: 32px;\n",
              "      }\n",
              "\n",
              "      .colab-df-generate:hover {\n",
              "        background-color: #E2EBFA;\n",
              "        box-shadow: 0px 1px 2px rgba(60, 64, 67, 0.3), 0px 1px 3px 1px rgba(60, 64, 67, 0.15);\n",
              "        fill: #174EA6;\n",
              "      }\n",
              "\n",
              "      [theme=dark] .colab-df-generate {\n",
              "        background-color: #3B4455;\n",
              "        fill: #D2E3FC;\n",
              "      }\n",
              "\n",
              "      [theme=dark] .colab-df-generate:hover {\n",
              "        background-color: #434B5C;\n",
              "        box-shadow: 0px 1px 3px 1px rgba(0, 0, 0, 0.15);\n",
              "        filter: drop-shadow(0px 1px 2px rgba(0, 0, 0, 0.3));\n",
              "        fill: #FFFFFF;\n",
              "      }\n",
              "    </style>\n",
              "    <button class=\"colab-df-generate\" onclick=\"generateWithVariable('df')\"\n",
              "            title=\"Generate code using this dataframe.\"\n",
              "            style=\"display:none;\">\n",
              "\n",
              "  <svg xmlns=\"http://www.w3.org/2000/svg\" height=\"24px\"viewBox=\"0 0 24 24\"\n",
              "       width=\"24px\">\n",
              "    <path d=\"M7,19H8.4L18.45,9,17,7.55,7,17.6ZM5,21V16.75L18.45,3.32a2,2,0,0,1,2.83,0l1.4,1.43a1.91,1.91,0,0,1,.58,1.4,1.91,1.91,0,0,1-.58,1.4L9.25,21ZM18.45,9,17,7.55Zm-12,3A5.31,5.31,0,0,0,4.9,8.1,5.31,5.31,0,0,0,1,6.5,5.31,5.31,0,0,0,4.9,4.9,5.31,5.31,0,0,0,6.5,1,5.31,5.31,0,0,0,8.1,4.9,5.31,5.31,0,0,0,12,6.5,5.46,5.46,0,0,0,6.5,12Z\"/>\n",
              "  </svg>\n",
              "    </button>\n",
              "    <script>\n",
              "      (() => {\n",
              "      const buttonEl =\n",
              "        document.querySelector('#id_f4a9590e-205b-4e62-8779-b7695eb78141 button.colab-df-generate');\n",
              "      buttonEl.style.display =\n",
              "        google.colab.kernel.accessAllowed ? 'block' : 'none';\n",
              "\n",
              "      buttonEl.onclick = () => {\n",
              "        google.colab.notebook.generateWithVariable('df');\n",
              "      }\n",
              "      })();\n",
              "    </script>\n",
              "  </div>\n",
              "\n",
              "    </div>\n",
              "  </div>\n"
            ],
            "application/vnd.google.colaboratory.intrinsic+json": {
              "type": "dataframe",
              "variable_name": "df",
              "summary": "{\n  \"name\": \"df\",\n  \"rows\": 10,\n  \"fields\": [\n    {\n      \"column\": \"Store Name\",\n      \"properties\": {\n        \"dtype\": \"string\",\n        \"num_unique_values\": 10,\n        \"samples\": [\n          \"Apple - Upper East Side\",\n          \"Apple Fifth Avenue\",\n          \"Apple - Upper West Side\"\n        ],\n        \"semantic_type\": \"\",\n        \"description\": \"\"\n      }\n    },\n    {\n      \"column\": \"Rating\",\n      \"properties\": {\n        \"dtype\": \"number\",\n        \"std\": 0.3400980250849255,\n        \"min\": 2.5,\n        \"max\": 3.4,\n        \"num_unique_values\": 8,\n        \"samples\": [\n          3.4,\n          2.7,\n          3.3\n        ],\n        \"semantic_type\": \"\",\n        \"description\": \"\"\n      }\n    },\n    {\n      \"column\": \"Review Count\",\n      \"properties\": {\n        \"dtype\": \"number\",\n        \"std\": 317,\n        \"min\": 180,\n        \"max\": 1194,\n        \"num_unique_values\": 10,\n        \"samples\": [\n          217,\n          1194,\n          463\n        ],\n        \"semantic_type\": \"\",\n        \"description\": \"\"\n      }\n    },\n    {\n      \"column\": \"Phone\",\n      \"properties\": {\n        \"dtype\": \"string\",\n        \"num_unique_values\": 10,\n        \"samples\": [\n          \"+16463432700\",\n          \"+12123361440\",\n          \"+12122093400\"\n        ],\n        \"semantic_type\": \"\",\n        \"description\": \"\"\n      }\n    },\n    {\n      \"column\": \"Address\",\n      \"properties\": {\n        \"dtype\": \"string\",\n        \"num_unique_values\": 10,\n        \"samples\": [\n          \"940 Madison Ave, New York, NY 10021\",\n          \"767 5th Ave, New York, NY 10153\",\n          \"1981 Broadway, New York, NY 10023\"\n        ],\n        \"semantic_type\": \"\",\n        \"description\": \"\"\n      }\n    },\n    {\n      \"column\": \"Yelp URL\",\n      \"properties\": {\n        \"dtype\": \"string\",\n        \"num_unique_values\": 10,\n        \"samples\": [\n          \"https://www.yelp.com/biz/apple-upper-east-side-new-york?adjust_creative=kS6JEZ5zMHH1n_MaweIpug&utm_campaign=yelp_api_v3&utm_medium=api_v3_business_search&utm_source=kS6JEZ5zMHH1n_MaweIpug\",\n          \"https://www.yelp.com/biz/apple-fifth-avenue-new-york?adjust_creative=kS6JEZ5zMHH1n_MaweIpug&utm_campaign=yelp_api_v3&utm_medium=api_v3_business_search&utm_source=kS6JEZ5zMHH1n_MaweIpug\",\n          \"https://www.yelp.com/biz/apple-upper-west-side-new-york-2?adjust_creative=kS6JEZ5zMHH1n_MaweIpug&utm_campaign=yelp_api_v3&utm_medium=api_v3_business_search&utm_source=kS6JEZ5zMHH1n_MaweIpug\"\n        ],\n        \"semantic_type\": \"\",\n        \"description\": \"\"\n      }\n    }\n  ]\n}"
            }
          },
          "metadata": {},
          "execution_count": 25
        }
      ]
    },
    {
      "cell_type": "code",
      "source": [
        "user = 'postgres'\n",
        "password = 'isba_4715'\n",
        "host = 'isba-dev-02.c8p8820o4mvz.us-east-1.rds.amazonaws.com'\n",
        "port = 5432\n",
        "database = 'sql_project'"
      ],
      "metadata": {
        "id": "0AhzY0zHgIuT"
      },
      "execution_count": 35,
      "outputs": []
    },
    {
      "cell_type": "code",
      "source": [
        "engine = create_engine(f'postgresql+psycopg2://{user}:{password}@{host}:{port}/{database}')\n",
        "df.to_sql(name='sql_project', con=engine, if_exists='replace', index=False)"
      ],
      "metadata": {
        "colab": {
          "base_uri": "https://localhost:8080/"
        },
        "id": "8O6pasj9gMu4",
        "outputId": "2098ad60-bfd8-4c65-e69f-e3d6d96f6567"
      },
      "execution_count": 36,
      "outputs": [
        {
          "output_type": "execute_result",
          "data": {
            "text/plain": [
              "10"
            ]
          },
          "metadata": {},
          "execution_count": 36
        }
      ]
    }
  ]
}